{
 "cells": [
  {
   "cell_type": "markdown",
   "metadata": {},
   "source": [
    "# Intrduction to NumPy\n",
    "\n",
    "\n",
    "#### 1. Import NumPy under the name np."
   ]
  },
  {
   "cell_type": "code",
   "execution_count": 13,
   "metadata": {},
   "outputs": [],
   "source": [
    "# your code here\n",
    "import numpy as np"
   ]
  },
  {
   "cell_type": "markdown",
   "metadata": {},
   "source": [
    "#### 2. Print your NumPy version."
   ]
  },
  {
   "cell_type": "code",
   "execution_count": 14,
   "metadata": {},
   "outputs": [
    {
     "name": "stdout",
     "output_type": "stream",
     "text": [
      "1.23.3\n"
     ]
    }
   ],
   "source": [
    "# your code here\n",
    "print(np.__version__)"
   ]
  },
  {
   "cell_type": "markdown",
   "metadata": {},
   "source": [
    "#### 3. Generate a 2x3x5 3-dimensional array with random values. Assign the array to variable *a*.\n",
    "**Challenge**: there are at least three easy ways that use numpy to generate random arrays. How many ways can you find?"
   ]
  },
  {
   "cell_type": "code",
   "execution_count": 15,
   "metadata": {},
   "outputs": [],
   "source": [
    "# Method 1\n",
    "a = np.random.random(size=(2,3,5))"
   ]
  },
  {
   "cell_type": "code",
   "execution_count": 16,
   "metadata": {},
   "outputs": [],
   "source": [
    "# Method 2\n",
    "a = np.random.choice((range(100)),size=(2,3,5))"
   ]
  },
  {
   "cell_type": "code",
   "execution_count": 17,
   "metadata": {},
   "outputs": [],
   "source": [
    "# Method 3\n",
    "a = np.random.rand(2,3,5)"
   ]
  },
  {
   "cell_type": "code",
   "execution_count": 18,
   "metadata": {},
   "outputs": [],
   "source": [
    "# Method 4\n",
    "a = np.random.randint(low = 1, high = 52, size=(2,3,5))"
   ]
  },
  {
   "cell_type": "markdown",
   "metadata": {},
   "source": [
    "#### 4. Print *a*.\n"
   ]
  },
  {
   "cell_type": "code",
   "execution_count": 19,
   "metadata": {},
   "outputs": [
    {
     "name": "stdout",
     "output_type": "stream",
     "text": [
      "[[[39 33 37 11 16]\n",
      "  [14 31 40  2 25]\n",
      "  [26 26  1  9 38]]\n",
      "\n",
      " [[43 19 50 43 31]\n",
      "  [45  8  4 16  1]\n",
      "  [44  7 17 50  1]]]\n"
     ]
    }
   ],
   "source": [
    "# your code here\n",
    "print(a)"
   ]
  },
  {
   "cell_type": "markdown",
   "metadata": {},
   "source": [
    "#### 5. Create a 5x2x3 3-dimensional array with all values equaling 1. Assign the array to variable *b*."
   ]
  },
  {
   "cell_type": "code",
   "execution_count": 20,
   "metadata": {},
   "outputs": [],
   "source": [
    "# your code here\n",
    "b = np.ones(shape=(5, 2, 3))"
   ]
  },
  {
   "cell_type": "markdown",
   "metadata": {},
   "source": [
    "#### 6. Print *b*.\n"
   ]
  },
  {
   "cell_type": "code",
   "execution_count": 21,
   "metadata": {},
   "outputs": [
    {
     "name": "stdout",
     "output_type": "stream",
     "text": [
      "[[[1. 1. 1.]\n",
      "  [1. 1. 1.]]\n",
      "\n",
      " [[1. 1. 1.]\n",
      "  [1. 1. 1.]]\n",
      "\n",
      " [[1. 1. 1.]\n",
      "  [1. 1. 1.]]\n",
      "\n",
      " [[1. 1. 1.]\n",
      "  [1. 1. 1.]]\n",
      "\n",
      " [[1. 1. 1.]\n",
      "  [1. 1. 1.]]]\n"
     ]
    }
   ],
   "source": [
    "# your code here\n",
    "print(b)"
   ]
  },
  {
   "cell_type": "markdown",
   "metadata": {},
   "source": [
    "#### 7. Do *a* and *b* have the same size? How do you prove that in Python code?"
   ]
  },
  {
   "cell_type": "code",
   "execution_count": 22,
   "metadata": {},
   "outputs": [
    {
     "name": "stdout",
     "output_type": "stream",
     "text": [
      "(2, 3, 5)\n",
      "(5, 2, 3)\n",
      "False\n"
     ]
    }
   ],
   "source": [
    "# your code here\n",
    "print(a.shape)\n",
    "print(b.shape)\n",
    "print(a.shape == b.shape)\n",
    "\n",
    "## They are not the same size (although they have the same number of elements)"
   ]
  },
  {
   "cell_type": "markdown",
   "metadata": {},
   "source": [
    "#### 8. Are you able to add *a* and *b*? Why or why not?\n"
   ]
  },
  {
   "cell_type": "code",
   "execution_count": 23,
   "metadata": {},
   "outputs": [
    {
     "name": "stdout",
     "output_type": "stream",
     "text": [
      "[[[40. 34. 38. 12. 17.]\n",
      "  [15. 32. 41.  3. 26.]\n",
      "  [27. 27.  2. 10. 39.]]\n",
      "\n",
      " [[44. 20. 51. 44. 32.]\n",
      "  [46.  9.  5. 17.  2.]\n",
      "  [45.  8. 18. 51.  2.]]]\n",
      "[[[40. 34. 38.]\n",
      "  [12. 17. 15.]]\n",
      "\n",
      " [[32. 41.  3.]\n",
      "  [26. 27. 27.]]\n",
      "\n",
      " [[ 2. 10. 39.]\n",
      "  [44. 20. 51.]]\n",
      "\n",
      " [[44. 32. 46.]\n",
      "  [ 9.  5. 17.]]\n",
      "\n",
      " [[ 2. 45.  8.]\n",
      "  [18. 51.  2.]]]\n"
     ]
    }
   ],
   "source": [
    "# your answer here\n",
    "# You can't add a and b as they are not the same size. If they have the same number of elements (which is the case), you can add them if you reshape one of them\n",
    "# c = a + b <-- This will throw a ValueError\n",
    "\n",
    "# This...\n",
    "c = a + b.reshape(2,3,5)\n",
    "# ...or this will work\n",
    "d = a.reshape(5,2,3) + b\n",
    "print(c)\n",
    "print(d)"
   ]
  },
  {
   "cell_type": "markdown",
   "metadata": {},
   "source": [
    "#### 9. Transpose *b* so that it has the same structure of *a* (i.e. become a 2x3x5 array). Assign the transposed array to variable *c*."
   ]
  },
  {
   "cell_type": "code",
   "execution_count": 24,
   "metadata": {},
   "outputs": [],
   "source": [
    "# your code here\n",
    "c= b.reshape(2,3,5)"
   ]
  },
  {
   "cell_type": "markdown",
   "metadata": {},
   "source": [
    "#### 10. Try to add *a* and *c*. Now it should work. Assign the sum to variable *d*. But why does it work now?"
   ]
  },
  {
   "cell_type": "code",
   "execution_count": 25,
   "metadata": {},
   "outputs": [],
   "source": [
    "# your code/answer here\n",
    "\n",
    "d = a + c\n",
    "\n",
    "# It works now, because the arrays have the same shape"
   ]
  },
  {
   "cell_type": "markdown",
   "metadata": {},
   "source": [
    "#### 11. Print *a* and *d*. Notice the difference and relation of the two array in terms of the values? Explain."
   ]
  },
  {
   "cell_type": "code",
   "execution_count": 26,
   "metadata": {},
   "outputs": [
    {
     "name": "stdout",
     "output_type": "stream",
     "text": [
      "[[[39 33 37 11 16]\n",
      "  [14 31 40  2 25]\n",
      "  [26 26  1  9 38]]\n",
      "\n",
      " [[43 19 50 43 31]\n",
      "  [45  8  4 16  1]\n",
      "  [44  7 17 50  1]]]\n",
      "[[[40. 34. 38. 12. 17.]\n",
      "  [15. 32. 41.  3. 26.]\n",
      "  [27. 27.  2. 10. 39.]]\n",
      "\n",
      " [[44. 20. 51. 44. 32.]\n",
      "  [46.  9.  5. 17.  2.]\n",
      "  [45.  8. 18. 51.  2.]]]\n"
     ]
    }
   ],
   "source": [
    "# your code/answer here\n",
    "print(a)\n",
    "print(d)\n",
    "\n",
    "# The values of d are the values of a + 1. This can be explained as:\n",
    "# d was created by adding a and c, and c is a reshape of b, which was created with the np.ones() functions, thus all values in c are 1."
   ]
  },
  {
   "cell_type": "markdown",
   "metadata": {},
   "source": [
    "#### 12. Multiply *a* and *c*. Assign the result to *e*."
   ]
  },
  {
   "cell_type": "code",
   "execution_count": 27,
   "metadata": {},
   "outputs": [],
   "source": [
    "# your code here\n",
    "e = a * c"
   ]
  },
  {
   "cell_type": "markdown",
   "metadata": {},
   "source": [
    "#### 13. Does *e* equal to *a*? Why or why not?\n"
   ]
  },
  {
   "cell_type": "code",
   "execution_count": 28,
   "metadata": {},
   "outputs": [
    {
     "name": "stdout",
     "output_type": "stream",
     "text": [
      "[[[ True  True  True  True  True]\n",
      "  [ True  True  True  True  True]\n",
      "  [ True  True  True  True  True]]\n",
      "\n",
      " [[ True  True  True  True  True]\n",
      "  [ True  True  True  True  True]\n",
      "  [ True  True  True  True  True]]]\n"
     ]
    }
   ],
   "source": [
    "# your code/answer here\n",
    "print(e == a)\n",
    "\n",
    "## Yes, it does because, once again, all elements of c are 1 and 1 is the multiplication identity (ie, any number * 1 = number)."
   ]
  },
  {
   "cell_type": "markdown",
   "metadata": {},
   "source": [
    "#### 14. Identify the max, min, and mean values in *d*. Assign those values to variables *d_max*, *d_min* and *d_mean*."
   ]
  },
  {
   "cell_type": "code",
   "execution_count": 29,
   "metadata": {},
   "outputs": [
    {
     "name": "stdout",
     "output_type": "stream",
     "text": [
      "51.0 2.0 25.233333333333334\n"
     ]
    }
   ],
   "source": [
    "# your code here\n",
    "d_max = d.max()\n",
    "d_min = d.min()\n",
    "d_mean = d.mean()\n",
    "print(d_max, d_min, d_mean)"
   ]
  },
  {
   "cell_type": "markdown",
   "metadata": {},
   "source": [
    "#### 15. Now we want to label the values in *d*. First create an empty array *f* with the same shape (i.e. 2x3x5) as *d* using `np.empty`.\n"
   ]
  },
  {
   "cell_type": "code",
   "execution_count": 46,
   "metadata": {},
   "outputs": [],
   "source": [
    "# your code here\n",
    "f = np.empty(shape = (2,3,5))"
   ]
  },
  {
   "cell_type": "markdown",
   "metadata": {},
   "source": [
    "#### 16. Populate the values in *f*. \n",
    "\n",
    "For each value in *d*, if it's larger than *d_min* but smaller than *d_mean*, assign 25 to the corresponding value in *f*. If a value in *d* is larger than *d_mean* but smaller than *d_max*, assign 75 to the corresponding value in *f*. If a value equals to *d_mean*, assign 50 to the corresponding value in *f*. Assign 0 to the corresponding value(s) in *f* for *d_min* in *d*. Assign 100 to the corresponding value(s) in *f* for *d_max* in *d*. In the end, f should have only the following values: 0, 25, 50, 75, and 100.\n",
    "\n",
    "**Note**: you don't have to use Numpy in this question."
   ]
  },
  {
   "cell_type": "code",
   "execution_count": 52,
   "metadata": {},
   "outputs": [
    {
     "name": "stdout",
     "output_type": "stream",
     "text": [
      "[[[ 75.  75.  75.  25.  25.]\n",
      "  [ 25.  75.  75.  25.  75.]\n",
      "  [ 75.  75.   0.  25.  75.]]\n",
      "\n",
      " [[ 75.  25. 100.  75.  75.]\n",
      "  [ 75.  25.  25.  25.   0.]\n",
      "  [ 75.  25.  25. 100.   0.]]]\n"
     ]
    },
    {
     "data": {
      "text/plain": [
       "'\\nmax_index = np.argwhere(d == d_max)\\nlarge_index = np.argwhere(np.logical_and(d > d_mean,d < d_max))\\nmean_index = np.argwhere(d == d_mean)\\nlow_index = np.argwhere(np.logical_and(d > d_min, d < d_mean))\\nmin_index = np.argwhere(d == d_min)\\n\\nfor element in max_index:\\n\\tf[element[0], element[1], element[2]] = 100\\n\\nfor element in large_index:\\n\\tf[element[0], element[1], element[2]] = 75\\n\\nfor element in mean_index:\\n\\tf[element[0], element[1], element[2]] = 50\\n\\nfor element in low_index:\\n\\tf[element[0], element[1], element[2]] = 25\\n\\nfor element in min_index:\\n\\tf[element[0], element[1], element[2]] = 0\\n\\t'"
      ]
     },
     "execution_count": 52,
     "metadata": {},
     "output_type": "execute_result"
    }
   ],
   "source": [
    "# your code here\n",
    "f[d == d_max] = 100\n",
    "f[np.logical_and(d > d_mean, d < d_max)] = 75\n",
    "f[d == d_mean] = 50\n",
    "f[np.logical_and(d < d_mean, d > d_min)] = 25\n",
    "f[d == d_min] = 0"
   ]
  },
  {
   "cell_type": "markdown",
   "metadata": {},
   "source": [
    "#### 17. Print *d* and *f*. Do you have your expected *f*?\n",
    "For instance, if your *d* is:\n",
    "```python\n",
    "[[[1.85836099, 1.67064465, 1.62576044, 1.40243961, 1.88454931],\n",
    "[1.75354326, 1.69403643, 1.36729252, 1.61415071, 1.12104981],\n",
    "[1.72201435, 1.1862918 , 1.87078449, 1.7726778 , 1.88180042]],\n",
    "[[1.44747908, 1.31673383, 1.02000951, 1.52218947, 1.97066381],\n",
    "[1.79129243, 1.74983003, 1.96028037, 1.85166831, 1.65450881],\n",
    "[1.18068344, 1.9587381 , 1.00656599, 1.93402165, 1.73514584]]]\n",
    "```\n",
    "Your *f* should be:\n",
    "```python\n",
    "[[[ 75.,  75.,  75.,  25.,  75.],\n",
    "[ 75.,  75.,  25.,  25.,  25.],\n",
    "[ 75.,  25.,  75.,  75.,  75.]],\n",
    "[[ 25.,  25.,  25.,  25., 100.],\n",
    "[ 75.,  75.,  75.,  75.,  75.],\n",
    "[ 25.,  75.,   0.,  75.,  75.]]]\n",
    "```"
   ]
  },
  {
   "cell_type": "code",
   "execution_count": 53,
   "metadata": {},
   "outputs": [
    {
     "name": "stdout",
     "output_type": "stream",
     "text": [
      "[[[40. 34. 38. 12. 17.]\n",
      "  [15. 32. 41.  3. 26.]\n",
      "  [27. 27.  2. 10. 39.]]\n",
      "\n",
      " [[44. 20. 51. 44. 32.]\n",
      "  [46.  9.  5. 17.  2.]\n",
      "  [45.  8. 18. 51.  2.]]]\n",
      "[[[ 75.  75.  75.  25.  25.]\n",
      "  [ 25.  75.  75.  25.  75.]\n",
      "  [ 75.  75.   0.  25.  75.]]\n",
      "\n",
      " [[ 75.  25. 100.  75.  75.]\n",
      "  [ 75.  25.  25.  25.   0.]\n",
      "  [ 75.  25.  25. 100.   0.]]]\n"
     ]
    }
   ],
   "source": [
    "# your code here\n",
    "print(d)\n",
    "print(f)\n",
    "\n",
    "# Sure seems like it!"
   ]
  },
  {
   "cell_type": "markdown",
   "metadata": {},
   "source": [
    "#### 18. Bonus question: instead of using numbers (i.e. 0, 25, 50, 75, and 100), use string values  (\"A\", \"B\", \"C\", \"D\", and \"E\") to label the array elements. For the example above, the expected result is:\n",
    "\n",
    "```python\n",
    "[[[ 'D',  'D',  'D',  'B',  'D'],\n",
    "[ 'D',  'D',  'B',  'B',  'B'],\n",
    "[ 'D',  'B',  'D',  'D',  'D']],\n",
    "[[ 'B',  'B',  'B',  'B',  'E'],\n",
    "[ 'D',  'D',  'D',  'D',  'D'],\n",
    "[ 'B',  'D',   'A',  'D', 'D']]]\n",
    "```\n",
    "**Note**: you don't have to use Numpy in this question."
   ]
  },
  {
   "cell_type": "code",
   "execution_count": 54,
   "metadata": {},
   "outputs": [
    {
     "name": "stdout",
     "output_type": "stream",
     "text": [
      "[[['D' 'D' 'D' 'B' 'B']\n",
      "  ['B' 'D' 'D' 'B' 'D']\n",
      "  ['D' 'D' 'A' 'B' 'D']]\n",
      "\n",
      " [['D' 'B' 'E' 'D' 'D']\n",
      "  ['D' 'B' 'B' 'B' 'A']\n",
      "  ['D' 'B' 'B' 'E' 'A']]]\n"
     ]
    }
   ],
   "source": [
    "# your code here\n",
    "\n",
    "f = np.array(f, dtype=object)\n",
    "\n",
    "f[d == d_max] = \"E\"\n",
    "f[np.logical_and(d > d_mean, d < d_max)] = \"D\"\n",
    "f[d == d_mean] = \"C\"\n",
    "f[np.logical_and(d < d_mean, d > d_min)] = \"B\"\n",
    "f[d == d_min] = \"A\"\n",
    "\n",
    "print(f)\n",
    "\t\n"
   ]
  }
 ],
 "metadata": {
  "kernelspec": {
   "display_name": "Python 3.8.10 64-bit (microsoft store)",
   "language": "python",
   "name": "python3"
  },
  "language_info": {
   "codemirror_mode": {
    "name": "ipython",
    "version": 3
   },
   "file_extension": ".py",
   "mimetype": "text/x-python",
   "name": "python",
   "nbconvert_exporter": "python",
   "pygments_lexer": "ipython3",
   "version": "3.8.10"
  },
  "vscode": {
   "interpreter": {
    "hash": "d6a835cb0e3e2e42c08a78000f73c01243dc5ec4e68a4401291fff98434c71d3"
   }
  }
 },
 "nbformat": 4,
 "nbformat_minor": 2
}
